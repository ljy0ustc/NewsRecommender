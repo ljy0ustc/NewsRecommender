{
 "cells": [
  {
   "cell_type": "code",
   "execution_count": 23,
   "id": "92a71d8f",
   "metadata": {},
   "outputs": [],
   "source": [
    "import os\n",
    "from pyltp import NamedEntityRecognizer\n",
    "from pyltp import Segmentor\n",
    "from pyltp import Postagger"
   ]
  },
  {
   "cell_type": "code",
   "execution_count": 24,
   "id": "c7c82364",
   "metadata": {},
   "outputs": [],
   "source": [
    "# LTP 采用 BIESO 标注体系。\n",
    "# B 表示实体开始词，I表示实体中间词，E表示实体结束词，S表示单独成实体，O表示不构成命名实体。\n",
    " \n",
    "# LTP 提供的命名实体类型为:人名（Nh）、地名（Ns）、机构名（Ni）。\n",
    "# B、I、E、S位置标签和实体类型标签之间用一个横线 - 相连；O标签后没有类型标签。\n",
    " \n",
    "# https://pyltp.readthedocs.io/zh_CN/latest/api.html#id21"
   ]
  },
  {
   "cell_type": "code",
   "execution_count": 25,
   "id": "ea8a007a",
   "metadata": {},
   "outputs": [],
   "source": [
    "class LTP:\n",
    " \n",
    "    def __init__(self,sentence):\n",
    "        ROOT_PATH = \"D:/model/ltp-model/ltp_data_v3.4.0/\"\n",
    "        self.seg_model = os.path.join(ROOT_PATH,\"cws.model\")\n",
    "        self.pos_model = os.path.join(ROOT_PATH,\"pos.model\")\n",
    "        self.ner_model = os.path.join(ROOT_PATH,\"ner.model\")\n",
    "        self.sentence=sentence\n",
    " \n",
    "    def seg_words(self):\n",
    "        # 分词\n",
    "        segmentor = Segmentor()\n",
    "        segmentor.load(self.seg_model)\n",
    "        words = segmentor.segment(self.sentence)\n",
    "        segmentor.release()\n",
    "        word_list = list(words)\n",
    "        return words,word_list\n",
    " \n",
    "    def postag_words(self,words):\n",
    "        # 词性标注\n",
    "        postagger = Postagger()\n",
    "        postagger.load(self.pos_model)\n",
    "        postags = postagger.postag(words)\n",
    "        postagger.release()\n",
    "        return postags\n",
    "     \n",
    "    def recog_words(self,words,postags):\n",
    "        # 实体识别\n",
    "        recognizer = NamedEntityRecognizer() \n",
    "        recognizer.load(self.ner_model)  \n",
    "        netags = recognizer.recognize(words,postags)\n",
    "        recognizer.release()\n",
    "        tag_list = list(netags)\n",
    "        return tag_list\n",
    "    \n",
    "    def ner(self):\n",
    "        words,word_list=self.seg_words()\n",
    "        postags=self.postag_words(words)\n",
    "        tag_list=self.recog_words(words,postags)\n",
    "        \n",
    "        # 人名\n",
    "        nh_list = []\n",
    "        # 地名\n",
    "        ns_list = []\n",
    "        # 机构名\n",
    "        ni_list = []\n",
    "\n",
    "        flag = False\n",
    "        entity = \"\"\n",
    "        for i,tag in enumerate(tag_list):\n",
    "            # 单独实体\n",
    "            if tag[0] == 'S':\n",
    "                tag_type = tag.split('-')[1]\n",
    "                if tag_type == 'Nh':\n",
    "                    nh_list.append(word_list[i])\n",
    "                if tag_type == 'Ns':\n",
    "                    ns_list.append(word_list[i])\n",
    "                if tag_type == 'Ni':\n",
    "                    ni_list.append(word_list[i])\n",
    "\n",
    "            # 非单独实体\n",
    "            if tag[0] == 'B':\n",
    "                flag = True\n",
    "                entity += word_list[i]\n",
    "            if tag[0] == 'I':\n",
    "                entity += word_list[i]\n",
    "            if tag[0] == 'E':\n",
    "                entity += word_list[i]            \n",
    "                tag_type = tag.split('-')[1]\n",
    "                if tag_type == 'Nh':\n",
    "                    nh_list.append(entity)\n",
    "                if tag_type == 'Ns':\n",
    "                    ns_list.append(entity)\n",
    "                if tag_type == 'Ni':\n",
    "                    ni_list.append(entity) \n",
    "\n",
    "                flag = False\n",
    "                entity = \"\"\n",
    "\n",
    "        return nh_list,ns_list,ni_list"
   ]
  },
  {
   "cell_type": "code",
   "execution_count": 26,
   "id": "1898672d",
   "metadata": {},
   "outputs": [
    {
     "name": "stdout",
     "output_type": "stream",
     "text": [
      "人名：['郭帆', '吴', '屈楚萧', '李光洁', '吴孟达', '赵今麦']\n",
      "地名：['中国']\n",
      "机构名：['中国电影股份有限公司', '北京京西文化旅游股份有限公司', '北京登峰国际文化传播有限公司', '郭帆文化传媒（北京）有限公司']\n"
     ]
    }
   ],
   "source": [
    "sentence = \"《流浪地球》是由中国电影股份有限公司、北京京西文化旅游股份有限公司、北京登峰国际文化传播有限公司、郭帆文化传媒（北京）有限公司出品的科幻片，由郭帆执导，吴京特别出演，屈楚萧、李光洁、吴孟达、赵今麦领衔主演。该片于2019年2月5日（农历大年初一）在中国内地上映。\"\n",
    "LTPner=LTP(sentence)\n",
    "nh_list,ns_list,ni_list=LTPner.ner()\n",
    "print(\"人名：{0}\".format(nh_list))\n",
    "print(\"地名：{0}\".format(ns_list))\n",
    "print(\"机构名：{0}\".format(ni_list))"
   ]
  },
  {
   "cell_type": "code",
   "execution_count": null,
   "id": "f65dde8f",
   "metadata": {},
   "outputs": [],
   "source": []
  }
 ],
 "metadata": {
  "kernelspec": {
   "display_name": "Python 3",
   "language": "python",
   "name": "python3"
  },
  "language_info": {
   "codemirror_mode": {
    "name": "ipython",
    "version": 3
   },
   "file_extension": ".py",
   "mimetype": "text/x-python",
   "name": "python",
   "nbconvert_exporter": "python",
   "pygments_lexer": "ipython3",
   "version": "3.6.13"
  }
 },
 "nbformat": 4,
 "nbformat_minor": 5
}
