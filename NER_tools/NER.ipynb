{
 "cells": [
  {
   "cell_type": "code",
   "execution_count": 96,
   "id": "9e1eb257",
   "metadata": {},
   "outputs": [],
   "source": [
    "from StanfordNER import SNER\n",
    "from LTPner import LTP"
   ]
  },
  {
   "cell_type": "code",
   "execution_count": 97,
   "id": "b6ef5e36",
   "metadata": {},
   "outputs": [],
   "source": [
    "import re\n",
    "from nltk.tag import StanfordNERTagger\n",
    "import os\n",
    "import pandas as pd\n",
    "import nltk\n",
    "from pyltp import NamedEntityRecognizer\n",
    "from pyltp import Segmentor\n",
    "from pyltp import Postagger"
   ]
  },
  {
   "cell_type": "code",
   "execution_count": 98,
   "id": "1f42464f",
   "metadata": {},
   "outputs": [
    {
     "name": "stdout",
     "output_type": "stream",
     "text": [
      "                Entity Name   Entity Type\n",
      "0                      FIFA  ORGANIZATION\n",
      "1                      1904          DATE\n",
      "2                   Belgium      LOCATION\n",
      "3                   Denmark      LOCATION\n",
      "4                    France      LOCATION\n",
      "5                   Germany      LOCATION\n",
      "6           the Netherlands      LOCATION\n",
      "7                     Spain      LOCATION\n",
      "8                    Sweden      LOCATION\n",
      "9               Switzerland      LOCATION\n",
      "10                   Zürich      LOCATION\n",
      "11                   Africa      LOCATION\n",
      "12                     Asia      LOCATION\n",
      "13                   Europe      LOCATION\n",
      "14  North & Central America  ORGANIZATION\n",
      "15                Caribbean      LOCATION\n",
      "16                  Oceania      LOCATION\n",
      "17            South America      LOCATION\n"
     ]
    }
   ],
   "source": [
    "#StanfordNER\n",
    "text = \"\"\"\n",
    "FIFA was founded in 1904 to oversee international competition among the national associations of Belgium, \n",
    "Denmark, France, Germany, the Netherlands, Spain, Sweden, and Switzerland. Headquartered in Zürich, its \n",
    "membership now comprises 211 national associations. Member countries must each also be members of one of \n",
    "the six regional confederations into which the world is divided: Africa, Asia, Europe, North & Central America \n",
    "and the Caribbean, Oceania, and South America.\n",
    "\"\"\"\n",
    "java_path=r'D:\\Java\\jdk-11.0.12\\bin\\java.exe'\n",
    "classifier='D:/stanford-ner-2020-11-17/classifiers/english.muc.7class.distsim.crf.ser.gz'\n",
    "path_to_jar='D:/stanford-ner-2020-11-17/stanford-ner.jar'\n",
    "sner=SNER(text,java_path,classifier,path_to_jar)\n",
    "res=sner.sparse()\n",
    "print(res)"
   ]
  },
  {
   "cell_type": "code",
   "execution_count": 99,
   "id": "a7e23c2a",
   "metadata": {},
   "outputs": [
    {
     "name": "stdout",
     "output_type": "stream",
     "text": [
      "人名：['郭帆', '吴', '屈楚萧', '李光洁', '吴孟达', '赵今麦']\n",
      "地名：['中国']\n",
      "机构名：['中国电影股份有限公司', '北京京西文化旅游股份有限公司', '北京登峰国际文化传播有限公司', '郭帆文化传媒（北京）有限公司']\n"
     ]
    }
   ],
   "source": [
    "#LTPner\n",
    "sentence = \"《流浪地球》是由中国电影股份有限公司、北京京西文化旅游股份有限公司、北京登峰国际文化传播有限公司、郭帆文化传媒（北京）有限公司出品的科幻片，由郭帆执导，吴京特别出演，屈楚萧、李光洁、吴孟达、赵今麦领衔主演。该片于2019年2月5日（农历大年初一）在中国内地上映。\"\n",
    "LTPner=LTP(sentence)\n",
    "nh_list,ns_list,ni_list=LTPner.ner()\n",
    "print(\"人名：{0}\".format(nh_list))\n",
    "print(\"地名：{0}\".format(ns_list))\n",
    "print(\"机构名：{0}\".format(ni_list))"
   ]
  },
  {
   "cell_type": "code",
   "execution_count": 103,
   "id": "66eebe52",
   "metadata": {},
   "outputs": [],
   "source": [
    "text=\"\"\"FIFA was founded in 1904 to oversee international competition among the national associations of Belgium, \n",
    "Denmark, France, Germany, the Netherlands, Spain, Sweden, and Switzerland. Headquartered in Zürich, its \n",
    "membership now comprises 211 national associations.《流浪地球》是由中国电影股份有限公司、北京京西文化旅游股份有限公司、\n",
    "北京登峰国际文化传播有限公司、郭帆文化传媒（北京）有限公司出品的科幻片，\n",
    "由郭帆执导，吴京特别出演，屈楚萧、李光洁、吴孟达、赵今麦领衔主演。\n",
    "该片于2019年2月5日（农历大年初一）在中国内地上映。 Member countries must each also be members of one of \n",
    "the six regional confederations into which the world is divided: Africa, Asia, Europe, North & Central America \n",
    "and the Caribbean, Oceania, and South America.\n",
    "\"\"\"\n",
    "\n",
    "java_path=r'D:\\Java\\jdk-11.0.12\\bin\\java.exe'\n",
    "classifier='D:/stanford-ner-2020-11-17/classifiers/english.muc.7class.distsim.crf.ser.gz'\n",
    "path_to_jar='D:/stanford-ner-2020-11-17/stanford-ner.jar'"
   ]
  },
  {
   "cell_type": "code",
   "execution_count": 104,
   "id": "30a408a5",
   "metadata": {},
   "outputs": [],
   "source": [
    "class NER:\n",
    "    def __init__(self,text,java_path,classifier,path_to_jar):\n",
    "        self.ch_str=re.sub('[a-zA-Z]','',text)\n",
    "        self.eng_str=re.sub(r'[\\u4e00-\\u9fa5]','',text)\n",
    "        self.sner=SNER(self.eng_str,java_path,classifier,path_to_jar)\n",
    "        self.LTPner=LTP(self.ch_str)\n",
    "\n",
    "    def ner(self):\n",
    "        res=sner.sparse()\n",
    "        nh_list,ns_list,ni_list=LTPner.ner()\n",
    "        return res,nh_list,ns_list,ni_list"
   ]
  },
  {
   "cell_type": "code",
   "execution_count": 105,
   "id": "d4637f5a",
   "metadata": {},
   "outputs": [
    {
     "name": "stdout",
     "output_type": "stream",
     "text": [
      "                Entity Name   Entity Type\n",
      "0                      FIFA  ORGANIZATION\n",
      "1                      1904          DATE\n",
      "2                   Belgium      LOCATION\n",
      "3                   Denmark      LOCATION\n",
      "4                    France      LOCATION\n",
      "5                   Germany      LOCATION\n",
      "6           the Netherlands      LOCATION\n",
      "7                     Spain      LOCATION\n",
      "8                    Sweden      LOCATION\n",
      "9               Switzerland      LOCATION\n",
      "10                   Zürich      LOCATION\n",
      "11                   Africa      LOCATION\n",
      "12                     Asia      LOCATION\n",
      "13                   Europe      LOCATION\n",
      "14  North & Central America  ORGANIZATION\n",
      "15                Caribbean      LOCATION\n",
      "16                  Oceania      LOCATION\n",
      "17            South America      LOCATION\n",
      "人名：['郭帆', '吴', '屈楚萧', '李光洁', '吴孟达', '赵今麦']\n",
      "地名：['中国']\n",
      "机构名：['中国电影股份有限公司', '北京京西文化旅游股份有限公司', '北京登峰国际文化传播有限公司', '郭帆文化传媒（北京）有限公司']\n"
     ]
    }
   ],
   "source": [
    "ner=NER(text,java_path,classifier,path_to_jar)\n",
    "res,nh_list,ns_list,ni_list=ner.ner()\n",
    "print(res)\n",
    "print(\"人名：{0}\".format(nh_list))\n",
    "print(\"地名：{0}\".format(ns_list))\n",
    "print(\"机构名：{0}\".format(ni_list))"
   ]
  },
  {
   "cell_type": "code",
   "execution_count": null,
   "id": "8062ef06",
   "metadata": {},
   "outputs": [],
   "source": []
  }
 ],
 "metadata": {
  "kernelspec": {
   "display_name": "Python 3",
   "language": "python",
   "name": "python3"
  },
  "language_info": {
   "codemirror_mode": {
    "name": "ipython",
    "version": 3
   },
   "file_extension": ".py",
   "mimetype": "text/x-python",
   "name": "python",
   "nbconvert_exporter": "python",
   "pygments_lexer": "ipython3",
   "version": "3.6.13"
  }
 },
 "nbformat": 4,
 "nbformat_minor": 5
}
